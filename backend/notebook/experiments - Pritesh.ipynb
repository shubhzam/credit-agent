{
 "cells": [
  {
   "cell_type": "code",
   "execution_count": 256,
   "metadata": {},
   "outputs": [
    {
     "name": "stdout",
     "output_type": "stream",
     "text": [
      "hello world\n"
     ]
    }
   ],
   "source": [
    "print(\"hello world\")"
   ]
  },
  {
   "cell_type": "code",
   "execution_count": 257,
   "metadata": {},
   "outputs": [],
   "source": [
    "from langgraph.graph import StateGraph, START, END\n",
    "import os"
   ]
  },
  {
   "cell_type": "code",
   "execution_count": 258,
   "metadata": {},
   "outputs": [],
   "source": [
    "from langchain_openai import OpenAI, ChatOpenAI"
   ]
  },
  {
   "cell_type": "code",
   "execution_count": 259,
   "metadata": {},
   "outputs": [
    {
     "data": {
      "text/plain": [
       "True"
      ]
     },
     "execution_count": 259,
     "metadata": {},
     "output_type": "execute_result"
    }
   ],
   "source": [
    "from dotenv import load_dotenv\n",
    "load_dotenv()"
   ]
  },
  {
   "cell_type": "code",
   "execution_count": 260,
   "metadata": {},
   "outputs": [],
   "source": [
    "openai_api_key = os.getenv(\"OPENAI_API_KEY\")"
   ]
  },
  {
   "cell_type": "code",
   "execution_count": 261,
   "metadata": {},
   "outputs": [],
   "source": [
    "llm = ChatOpenAI(\n",
    "    model=\"gpt-4o-mini\",\n",
    "    temperature=0,\n",
    "    api_key=openai_api_key\n",
    ")"
   ]
  },
  {
   "cell_type": "code",
   "execution_count": 262,
   "metadata": {},
   "outputs": [],
   "source": [
    "#llm.invoke(\"Hello how are you?\")"
   ]
  },
  {
   "cell_type": "code",
   "execution_count": 284,
   "metadata": {},
   "outputs": [],
   "source": [
    "from typing_extensions import TypedDict\n",
    "from typing import Annotated, Dict, Any\n",
    "from langgraph.graph.message import add_messages\n",
    "from langgraph.graph import StateGraph, END\n",
    "from langchain_core.messages import AIMessage\n",
    "import requests"
   ]
  },
  {
   "cell_type": "code",
   "execution_count": 285,
   "metadata": {},
   "outputs": [],
   "source": [
    "# Minimal State\n",
    "class State(TypedDict):\n",
    "    messages: Annotated[list, add_messages]\n",
    "    data: Dict[str, Any]"
   ]
  },
  {
   "cell_type": "code",
   "execution_count": 286,
   "metadata": {},
   "outputs": [],
   "source": [
    "FLOWS = {\n",
    "    \"insertion_in_db\": \"https://prod-02.centralindia.logic.azure.com:443/workflows/176b9969d13147aa90ae97d9b53c7ca9/triggers/manual/paths/invoke?api-version=2016-06-01&sp=%2Ftriggers%2Fmanual%2Frun&sv=1.0&sig=cRltkx9lLIr5KRfxpNBvPZcmp2ybs3uxpSM_EvYk42s\",\n",
    "    \"doc_download\":\"https://prod-16.centralindia.logic.azure.com:443/workflows/e8c18012e313410dae07e6ed20ccc816/triggers/manual/paths/invoke?api-version=2016-06-01&sp=%2Ftriggers%2Fmanual%2Frun&sv=1.0&sig=oMl04_zC72XGN8W-ChrED9jW4pvSs5xUEQQA0BuHs3E\"\n",
    "}"
   ]
  },
  {
   "cell_type": "code",
   "execution_count": 287,
   "metadata": {},
   "outputs": [],
   "source": [
    "def call_flow(flow_name: str, data: dict) -> dict:\n",
    "    \"\"\"Call Power Automate flow\"\"\"\n",
    "    try:\n",
    "        response = requests.post(FLOWS[flow_name])\n",
    "        return {\"success\": True}\n",
    "    except Exception as e:\n",
    "        return {\"success\": False, \"error\": str(e)}\n",
    "    \n",
    "def insertion_in_db(state: State):\n",
    "    result = call_flow(\"insertion_in_db\", state[\"data\"])\n",
    "    return {\n",
    "        \"messages\": [AIMessage(content=f\"DB insertion: {'✅' if result['success'] else '❌'}\")],\n",
    "        \"data\": {**state[\"data\"], \"db_result\": result}\n",
    "    }\n",
    "\n",
    "def doc_download(state: State):\n",
    "    result = call_flow(\"doc_download\", state[\"data\"])\n",
    "    return {\n",
    "        \"messages\": [AIMessage(content=f\"Document download: {'✅' if result['success'] else '❌'}\")],\n",
    "        \"data\": {**state[\"data\"], \"doc_result\": result}\n",
    "    }"
   ]
  },
  {
   "cell_type": "code",
   "execution_count": 288,
   "metadata": {},
   "outputs": [],
   "source": [
    "def create_pipeline():\n",
    "    graph = StateGraph(State)\n",
    "    graph.add_node(\"insertion_in_db\", insertion_in_db)\n",
    "    graph.add_node(\"doc_download\", doc_download)\n",
    "    graph.set_entry_point(\"insertion_in_db\")\n",
    "    graph.add_edge(\"insertion_in_db\", \"doc_download\")\n",
    "    graph.add_edge(\"doc_download\", END)\n",
    "    \n",
    "    return graph.compile()"
   ]
  },
  {
   "cell_type": "code",
   "execution_count": 289,
   "metadata": {},
   "outputs": [],
   "source": [
    "def run():\n",
    "    pipeline = create_pipeline()\n",
    "    result = pipeline.invoke({\"messages\": [], \"data\": {\"pipeline_id\": \"test_001\"}})\n",
    "    \n",
    "    print(\"Pipeline completed!\")\n",
    "    for msg in result[\"messages\"]:\n",
    "        print(f\"  {msg.content}\")\n",
    "    \n",
    "    return result"
   ]
  },
  {
   "cell_type": "code",
   "execution_count": 290,
   "metadata": {},
   "outputs": [],
   "source": [
    "def visualize():\n",
    "    pipeline = create_pipeline()\n",
    "    try:\n",
    "        from IPython.display import Image, display\n",
    "        display(Image(pipeline.get_graph().draw_mermaid_png()))\n",
    "    except Exception:\n",
    "        print(pipeline.get_graph().draw_mermaid())\n"
   ]
  },
  {
   "cell_type": "code",
   "execution_count": 292,
   "metadata": {},
   "outputs": [
    {
     "name": "stdout",
     "output_type": "stream",
     "text": [
      "Pipeline completed!\n",
      "  DB insertion: ✅\n",
      "  Document download: ✅\n"
     ]
    },
    {
     "data": {
      "image/png": "[encoded data removed]",
      "text/plain": [
       "<IPython.core.display.Image object>"
      ]
     },
     "metadata": {},
     "output_type": "display_data"
    }
   ],
   "source": [
    "run()\n",
    "visualize()\n"
   ]
  },
  {
   "cell_type": "code",
   "execution_count": 304,
   "metadata": {},
   "outputs": [],
   "source": [
    "import pyodbc\n",
    "DATABASE = \"Agentic_Automation\"\n",
    "conn_str = (\n",
    "    \"DRIVER={SQL Server};\"\n",
    "    \"SERVER=216.48.191.98;\"\n",
    "    f\"DATABASE={DATABASE};\"\n",
    "    \"UID=ibsadmin;\"\n",
    "    \"PWD=Viking@@ibs2023;\"\n",
    ")\n",
    "cnxn = pyodbc.connect(conn_str, autocommit=True)\n",
    "cursor = cnxn.cursor()"
   ]
  },
  {
   "cell_type": "code",
   "execution_count": 325,
   "metadata": {},
   "outputs": [
    {
     "name": "stdout",
     "output_type": "stream",
     "text": [
      "DB insertion result: {'success': True}\n",
      "DB status: Completed\n",
      "Document download result: {'success': True}\n",
      "Doc download status: Completed\n",
      "Pipeline completed, messages:\n",
      " • DB insertion: ✅\n",
      " • DB status: ✅ Completed\n",
      " • Document download: ✅\n",
      " • DB status: ✅ Completed\n"
     ]
    }
   ],
   "source": [
    "from typing_extensions import TypedDict\n",
    "from typing import Annotated, Dict, Any\n",
    "from langgraph.graph.message import add_messages\n",
    "from langgraph.graph import StateGraph, END\n",
    "from langchain_core.messages import AIMessage\n",
    "import requests\n",
    "import time\n",
    "import pyodbc\n",
    "from contextlib import closing\n",
    "\n",
    "# 1) Define the shape of the pipeline state\n",
    "class State(TypedDict):\n",
    "    messages: Annotated[list, add_messages]\n",
    "    data: Dict[str, Any]\n",
    "\n",
    "# 2) Your two Power Automate endpoints\n",
    "FLOWS = {\n",
    "    \"insertion_in_db\": \"https://prod-02.centralindia.logic.azure.com:443/workflows/176b9969d13147aa90ae97d9b53c7ca9/triggers/manual/paths/invoke?api-version=2016-06-01&sp=%2Ftriggers%2Fmanual%2Frun&sv=1.0&sig=cRltkx9lLIr5KRfxpNBvPZcmp2ybs3uxpSM_EvYk42s\",\n",
    "    \"doc_download\": \"https://prod-16.centralindia.logic.azure.com:443/workflows/e8c18012e313410dae07e6ed20ccc816/triggers/manual/paths/invoke?api-version=2016-06-01&sp=%2Ftriggers%2Fmanual%2Frun&sv=1.0&sig=oMl04_zC72XGN8W-ChrED9jW4pvSs5xUEQQA0BuHs3E\"\n",
    "}\n",
    "\n",
    "def call_flow(flow_name: str, data: dict) -> dict:\n",
    "    \"\"\"Trigger a Power Automate flow and report success/failure.\"\"\"\n",
    "    try:\n",
    "        resp = requests.post(FLOWS[flow_name], json=data)\n",
    "        resp.raise_for_status()\n",
    "        return {\"success\": True}\n",
    "    except Exception as e:\n",
    "        return {\"success\": False, \"error\": str(e)}\n",
    "\n",
    "def insertion_in_db(state: State) -> State:\n",
    "    result = call_flow(\"insertion_in_db\", state[\"data\"])\n",
    "    print(f\"DB insertion result: {result}\")\n",
    "    return {\n",
    "        \"messages\": [\n",
    "            AIMessage(f\"DB insertion: {'✅' if result['success'] else '❌'}\")\n",
    "        ],\n",
    "        \"data\": state[\"data\"]\n",
    "    }\n",
    "\n",
    "def wait_for_status_dbinsertion(state: State) -> State:\n",
    "    \"\"\"Poll the workflow_status table until status == 'Completed'.\"\"\"\n",
    "    conn_str = (\n",
    "        \"DRIVER={SQL Server};\"\n",
    "        \"SERVER=216.48.191.98;\"\n",
    "        \"DATABASE=Agentic_Automation;\"\n",
    "        \"UID=ibsadmin;\"\n",
    "        \"PWD=Viking@@ibs2023;\"\n",
    "    )\n",
    "    query = \"\"\"\n",
    "        SELECT DbInsertion\n",
    "        FROM [Agentic_Automation].[dbo].[workflow_status]\n",
    "        WHERE WebtopId = ?\n",
    "    \"\"\"\n",
    "    webtop_id = state[\"data\"][\"WebtopId\"]\n",
    "\n",
    "    with pyodbc.connect(conn_str, autocommit=True) as conn:\n",
    "        with closing(conn.cursor()) as cur:\n",
    "            while True:\n",
    "                cur.execute(query, webtop_id)\n",
    "                row = cur.fetchone()\n",
    "                if row and row[0] == \"Completed\":\n",
    "                    break\n",
    "                time.sleep(5)\n",
    "    print(\"DB status: Completed\")\n",
    "    return {\n",
    "        \"messages\": [AIMessage(\"DB status: ✅ Completed\")],\n",
    "        \"data\": state[\"data\"]\n",
    "    }\n",
    "\n",
    "def wait_for_status_docdownload(state: State) -> State:\n",
    "    \"\"\"Poll the workflow_status table until status == 'Completed'.\"\"\"\n",
    "    conn_str = (\n",
    "        \"DRIVER={SQL Server};\"\n",
    "        \"SERVER=216.48.191.98;\"\n",
    "        \"DATABASE=Agentic_Automation;\"\n",
    "        \"UID=ibsadmin;\"\n",
    "        \"PWD=Viking@@ibs2023;\"\n",
    "    )\n",
    "    query = \"\"\"\n",
    "        SELECT DocDownload\n",
    "        FROM [Agentic_Automation].[dbo].[workflow_status]\n",
    "        WHERE WebtopId = ?\n",
    "    \"\"\"\n",
    "    webtop_id = state[\"data\"][\"WebtopId\"]\n",
    "\n",
    "    with pyodbc.connect(conn_str, autocommit=True) as conn:\n",
    "        with closing(conn.cursor()) as cur:\n",
    "            while True:\n",
    "                cur.execute(query, webtop_id)\n",
    "                row = cur.fetchone()\n",
    "                if row and row[0] == \"Completed\":\n",
    "                    break\n",
    "                time.sleep(5)\n",
    "    print(\"Doc download status: Completed\")\n",
    "\n",
    "    return {\n",
    "        \"messages\": [AIMessage(\"DB status: ✅ Completed\")],\n",
    "        \"data\": state[\"data\"]\n",
    "    }\n",
    "\n",
    "\n",
    "\n",
    "def doc_download(state: State) -> State:\n",
    "    result = call_flow(\"doc_download\", state[\"data\"])\n",
    "    print(f\"Document download result: {result}\")\n",
    "    return {\n",
    "        \"messages\": [\n",
    "            AIMessage(f\"Document download: {'✅' if result['success'] else '❌'}\")\n",
    "        ],\n",
    "        \"data\": {**state[\"data\"], \"doc_result\": result}\n",
    "    }\n",
    "\n",
    "def create_pipeline():\n",
    "    graph = StateGraph(State)\n",
    "    graph.add_node(\"insertion_in_db\", insertion_in_db)\n",
    "    graph.add_node(\"wait_for_status_dbinsertion\",  wait_for_status_dbinsertion)\n",
    "    graph.add_node(\"doc_download\",     doc_download)\n",
    "    graph.add_node(\"wait_for_status_docdownload\", wait_for_status_docdownload)\n",
    "\n",
    "    graph.set_entry_point(\"insertion_in_db\")\n",
    "    graph.add_edge(\"insertion_in_db\", \"wait_for_status_dbinsertion\")\n",
    "    graph.add_edge(\"wait_for_status_dbinsertion\", \"doc_download\")\n",
    "    graph.add_edge(\"doc_download\", \"wait_for_status_docdownload\")\n",
    "    graph.add_edge(\"wait_for_status_docdownload\", END)\n",
    "\n",
    "    return graph.compile()\n",
    "\n",
    "if __name__ == \"__main__\":\n",
    "    pipeline = create_pipeline()\n",
    "    # seed the pipeline with an ID of your workflow run\n",
    "    result = pipeline.invoke({\n",
    "        \"messages\": [],\n",
    "        \"data\": {\"WebtopId\": \"ABC123\"}\n",
    "    })\n",
    "    print(\"Pipeline completed, messages:\")\n",
    "    for msg in result[\"messages\"]:\n",
    "        print(\" •\", msg.content)\n"
   ]
  },
  {
   "cell_type": "code",
   "execution_count": null,
   "metadata": {},
   "outputs": [],
   "source": [
    "\n"
   ]
  }
 ],
 "metadata": {
  "kernelspec": {
   "display_name": "agentic_automation_env",
   "language": "python",
   "name": "python3"
  },
  "language_info": {
   "codemirror_mode": {
    "name": "ipython",
    "version": 3
   },
   "file_extension": ".py",
   "mimetype": "text/x-python",
   "name": "python",
   "nbconvert_exporter": "python",
   "pygments_lexer": "ipython3",
   "version": "3.12.11"
  }
 },
 "nbformat": 4,
 "nbformat_minor": 2
}
